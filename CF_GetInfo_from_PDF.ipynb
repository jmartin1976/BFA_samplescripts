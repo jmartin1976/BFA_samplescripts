{
  "nbformat": 4,
  "nbformat_minor": 0,
  "metadata": {
    "colab": {
      "provenance": [],
      "include_colab_link": true
    },
    "kernelspec": {
      "name": "python3",
      "display_name": "Python 3"
    },
    "language_info": {
      "name": "python"
    },
    "gpuClass": "standard"
  },
  "cells": [
    {
      "cell_type": "markdown",
      "metadata": {
        "id": "view-in-github",
        "colab_type": "text"
      },
      "source": [
        "<a href=\"https://colab.research.google.com/github/jmartin1976/BFA_samplescripts/blob/main/CF_GetInfo_from_PDF.ipynb\" target=\"_parent\"><img src=\"https://colab.research.google.com/assets/colab-badge.svg\" alt=\"Open In Colab\"/></a>"
      ]
    },
    {
      "cell_type": "markdown",
      "source": [
        "### Next steps:\n",
        "###### Look at Bing API\n",
        "###### retrieve description from url\n",
        "###### retrieve unstructure available info from K12 https://docs.google.com/spreadsheets/d/1jVZiKFYKh1DRgFMHEyHZkSPA0l2Ssy705QuEoyKr4cg/edit#gid=567602188\n",
        "###### FUTURE: for JSON to use this, should be fully automated (google sheet extensition?)"
      ],
      "metadata": {
        "id": "taJu_vFWuJEq"
      }
    },
    {
      "cell_type": "markdown",
      "source": [
        "### Installation"
      ],
      "metadata": {
        "id": "mQkpFI2UQ1nQ"
      }
    },
    {
      "cell_type": "code",
      "source": [
        "# TBD: revise as not all the packages might be finally needed\n",
        "!pip install langchain\n",
        "!pip install openai\n",
        "!pip install chromadb\n",
        "!pip install Cython\n",
        "!pip install tiktoken"
      ],
      "metadata": {
        "id": "cNOqE4rcLyy-"
      },
      "execution_count": null,
      "outputs": []
    },
    {
      "cell_type": "code",
      "source": [
        "!pip install pypdf"
      ],
      "metadata": {
        "id": "pDTg3qXj3ncG"
      },
      "execution_count": null,
      "outputs": []
    },
    {
      "cell_type": "code",
      "source": [
        "!pip install faiss-cpu"
      ],
      "metadata": {
        "id": "oyikLMfoTvf_"
      },
      "execution_count": null,
      "outputs": []
    },
    {
      "cell_type": "code",
      "source": [
        "!apt-get -qq install poppler-utils tesseract-ocr\n",
        "# Upgrade Pillow to latest version\n",
        "%pip install -q --user --upgrade pillow\n",
        "# Install Python Packages\n",
        "%pip install -q unstructured[\"local-inference\"]==0.8.4"
      ],
      "metadata": {
        "id": "E6ihe9zPaC_j"
      },
      "execution_count": null,
      "outputs": []
    },
    {
      "cell_type": "code",
      "source": [
        "import nltk\n",
        "nltk.download('punkt')\n",
        "nltk.download('averaged_perceptron_tagger')"
      ],
      "metadata": {
        "colab": {
          "base_uri": "https://localhost:8080/"
        },
        "id": "aUc15k29m5of",
        "outputId": "5e6914c1-e731-4e05-b56b-c06bfba49ffe"
      },
      "execution_count": 6,
      "outputs": [
        {
          "output_type": "stream",
          "name": "stderr",
          "text": [
            "[nltk_data] Downloading package punkt to /root/nltk_data...\n",
            "[nltk_data]   Unzipping tokenizers/punkt.zip.\n",
            "[nltk_data] Downloading package averaged_perceptron_tagger to\n",
            "[nltk_data]     /root/nltk_data...\n",
            "[nltk_data]   Unzipping taggers/averaged_perceptron_tagger.zip.\n"
          ]
        },
        {
          "output_type": "execute_result",
          "data": {
            "text/plain": [
              "True"
            ]
          },
          "metadata": {},
          "execution_count": 6
        }
      ]
    },
    {
      "cell_type": "markdown",
      "source": [
        "### Connect Google Drive"
      ],
      "metadata": {
        "id": "iXTO--zGRJYP"
      }
    },
    {
      "cell_type": "code",
      "source": [
        "# connect your Google Drive\n",
        "from google.colab import drive\n",
        "drive.mount('/content/gdrive', force_remount=True)\n",
        "root_dir = \"/content/gdrive/My Drive/\""
      ],
      "metadata": {
        "colab": {
          "base_uri": "https://localhost:8080/"
        },
        "id": "bN-sa7AeKc12",
        "outputId": "8b4bcf58-5f7c-4831-b472-9f9711fa7fb8"
      },
      "execution_count": 7,
      "outputs": [
        {
          "output_type": "stream",
          "name": "stdout",
          "text": [
            "Mounted at /content/gdrive\n"
          ]
        }
      ]
    },
    {
      "cell_type": "code",
      "source": [
        "import os\n",
        "pdf_folder_path = f'{root_dir}/CF_PDF/'\n",
        "pdf_files = os.listdir(pdf_folder_path)"
      ],
      "metadata": {
        "id": "OW-sc_UnKc9Z"
      },
      "execution_count": 9,
      "outputs": []
    },
    {
      "cell_type": "markdown",
      "source": [
        "### OpenAI API Key"
      ],
      "metadata": {
        "id": "7xTspt2HQ-IF"
      }
    },
    {
      "cell_type": "code",
      "source": [
        "# Get your API keys from openai, you will need to create an account.\n",
        "# Here is the link to get the keys: https://platform.openai.com/account/billing/overview\n",
        "os.environ[\"OPENAI_API_KEY\"] = \"\""
      ],
      "metadata": {
        "id": "rRLZqAttMPPT"
      },
      "execution_count": 10,
      "outputs": []
    },
    {
      "cell_type": "markdown",
      "source": [
        "### Queries used"
      ],
      "metadata": {
        "id": "LJNZxlaP_5qU"
      }
    },
    {
      "cell_type": "code",
      "source": [
        "# summary_instruction=\"summarize the text without losing information related to user types, technologies, and founder information\"\n",
        "query='''Please extract the following information: what users are they serving, which technology they use, Stage of the company or current fundraise (pre-see, seed, etc.), what are founder names, what is the gender of each founder member, if the founder has studied in an elite education institution include the institution, if the founder is local or foreign. Provide the answer in this format with one element in each line:\n",
        "User type:\n",
        "Technology:\n",
        "Stage:\n",
        "Founder name:\n",
        "Founder Gender:\n",
        "Elite institution:\n",
        "Founder local/foreign:\n",
        "If the information is not available in the dec, write NA'''"
      ],
      "metadata": {
        "id": "uTDqqueWUzqu"
      },
      "execution_count": 12,
      "outputs": []
    },
    {
      "cell_type": "markdown",
      "source": [
        "### Read some pdfs from a specific folder and extract the requested information"
      ],
      "metadata": {
        "id": "3zwqefnqQ5XT"
      }
    },
    {
      "cell_type": "code",
      "source": [
        "from langchain.document_loaders import UnstructuredFileLoader\n",
        "from unstructured.partition.pdf import partition_pdf\n",
        "import openai\n",
        "\n",
        "for pdf_file in pdf_files:\n",
        "    print(pdf_file)\n",
        "    file_path = os.path.join(pdf_folder_path, pdf_file)\n",
        "    loader = UnstructuredFileLoader(file_path)\n",
        "    docs = loader.load()\n",
        "    content=docs[0].page_content[:]\n",
        "    try:\n",
        "      # Code to make API request goes here\n",
        "      response = openai.ChatCompletion.create(\n",
        "      #model=\"gpt-3.5-turbo\",\n",
        "      #use 16k version in order to allow processing the docs\n",
        "      model='gpt-3.5-turbo-16k',\n",
        "      messages=[\n",
        "        {\"role\": \"system\", \"content\": \"You are a helpful assistant.\"},\n",
        "        {\"role\": \"user\", \"content\": f\"{content}\\n\\n{query}\"},\n",
        "        ]\n",
        "      )\n",
        "      print(response['choices'][0]['message']['content'])\n",
        "    except Exception as e:  # Catch all exceptions\n",
        "      error_message = str(e)\n",
        "      if \"maximum context length\" in error_message:\n",
        "        print(\"The request is too long for the model:\", e)\n",
        "      else:\n",
        "        print(\"An error ocurred with openAI:\", e)\n"
      ],
      "metadata": {
        "colab": {
          "base_uri": "https://localhost:8080/"
        },
        "id": "DTXJOHfOViCB",
        "outputId": "579eb826-46eb-493b-d337-32c9523b6327"
      },
      "execution_count": 13,
      "outputs": [
        {
          "output_type": "stream",
          "name": "stdout",
          "text": [
            "Tolbi - Pitch Deck.pdf\n",
            "User type: Small scale producers, Agri businesses, Local communities\n",
            "Technology: Cloud-based AI decision-making platform, Satellite images\n",
            "Stage: NA\n",
            "Founder name: Mouhamadou L. KEBE\n",
            "Founder Gender: Male\n",
            "Elite institution: NA\n",
            "Founder local/foreign: Local\n",
            "Bio-Logical_20230516.pdf\n",
            "User type: Bio-Logical Nature-based carbon removals for the world's most climate-vulnerable communities.\n",
            "Technology: Circular economy model, transforming agricultural waste into biochar.\n",
            "Stage: Not specified.\n",
            "Founder name: Philip Hunter, Rory Buckworth.\n",
            "Founder Gender: Not specified.\n",
            "Elite institution: Not specified.\n",
            "Founder local/foreign: Not specified.\n",
            "Thola_20230523.pdf\n",
            "User type: African farmers, compliance auditors, enterprise buyers\n",
            "Technology: Compliance automation software, farmer app\n",
            "Stage: Pre-seed\n",
            "Founder names: Nneile Nkholise, Dancan Angwenyi, Alan Pohl, Stefan Dominicus, Lalo Ener\n",
            "Founder Gender: Nneile - female, Dancan - male, Alan - male, Stefan - male, Lalo - NA\n",
            "Elite institution: NA\n",
            "Founder local/foreign: Nneile - local, Dancan - local, Alan - local, Stefan - local, Lalo - local\n",
            "NoorNation_202305_Pitch deck.pdf\n",
            "User type: Small and Medium Farming & Touristic Businesses\n",
            "Technology: Green decentralized infrastructure, Water Desalination + Electricity\n",
            "Stage: Not specified in the information provided\n",
            "Founder name: Eman Wahby, Zeinab AbolElNasr, Ragy Ramadan, Mohamed Khaled, Ahmed El Marsafi, Anton Tarek\n",
            "Founder Gender: Eman Wahby - Female, Zeinab AbolElNasr - Female, Ragy Ramadan - Male, Mohamed Khaled - Male, Ahmed El Marsafi - Male, Anton Tarek - Male\n",
            "Elite institution: Not mentioned in the information provided\n",
            "Founder local/foreign: Not mentioned in the information provided\n"
          ]
        }
      ]
    },
    {
      "cell_type": "markdown",
      "source": [
        "### Debug code for specific pdfs"
      ],
      "metadata": {
        "id": "jGgRsh9uZi8-"
      }
    },
    {
      "cell_type": "code",
      "source": [
        "from langchain.document_loaders import PyPDFLoader\n",
        "from langchain.document_loaders import UnstructuredFileLoader\n",
        "from pypdf import PdfReader\n",
        "from unstructured.partition.pdf import partition_pdf\n",
        "from collections import Counter\n",
        "\n",
        "debug_file='Bio-Logical_20230516.pdf'\n",
        "file_path = os.path.join(pdf_folder_path, debug_file)\n",
        "with open(file_path, 'rb') as f:\n",
        "  pdf_reader = PdfReader(f)\n",
        "  num_pages = len(pdf_reader.pages)\n",
        "  raw_text = ''\n",
        "  for page in range(num_pages):\n",
        "    page_obj = pdf_reader.pages[page]\n",
        "    raw_text += page_obj.extract_text()\n",
        "  print(f'Text from {debug_file}:')\n",
        "  print(raw_text)\n",
        "  print(f'Pages with reader {num_pages}')\n",
        "loader = PyPDFLoader(file_path)\n",
        "pages = loader.load_and_split()\n",
        "type(pages)\n",
        "print(f'Pages with pyPDFloader {len(pages)}:')\n",
        "loader = UnstructuredFileLoader(file_path)\n",
        "#elements = partition_pdf(file_path)\n",
        "#display(Counter(type(element) for element in elements))\n",
        "#print(\"\")\n",
        "#display(*[(type(element), element.text) for element in elements])"
      ],
      "metadata": {
        "id": "oPIV6_BGWBAM"
      },
      "execution_count": null,
      "outputs": []
    },
    {
      "cell_type": "code",
      "source": [
        "docs = loader.load()"
      ],
      "metadata": {
        "id": "ya6P2r4xH8xd"
      },
      "execution_count": 70,
      "outputs": []
    },
    {
      "cell_type": "code",
      "source": [
        "type(docs)"
      ],
      "metadata": {
        "colab": {
          "base_uri": "https://localhost:8080/"
        },
        "id": "UaOuhl2DMcYO",
        "outputId": "40ebfbbd-94ed-405e-cdae-2650cb21a211"
      },
      "execution_count": 77,
      "outputs": [
        {
          "output_type": "execute_result",
          "data": {
            "text/plain": [
              "list"
            ]
          },
          "metadata": {},
          "execution_count": 77
        }
      ]
    },
    {
      "cell_type": "code",
      "source": [
        "docs[0].page_content[:]"
      ],
      "metadata": {
        "colab": {
          "base_uri": "https://localhost:8080/",
          "height": 122
        },
        "id": "oRiL5VYNIA2J",
        "outputId": "c575341a-6915-4bd8-f927-75e314bc7d28"
      },
      "execution_count": 88,
      "outputs": [
        {
          "output_type": "execute_result",
          "data": {
            "text/plain": [
              "\"CREATING GROWTH FROM WASTE\\n\\nBio-Logical Nature-based carbon removals for the world's most climate-vulnerable communities.\\n\\nBio-Logical is a UK registered company number 14227765\\n\\nWHO WHO WE ARE. WE ARE.\\n\\nBio-Logical fights climate change and supports the world’s most climate-vulnerable communities through the power of nature-based carbon removals. By 2030 we aim to sequester 1 million tons of CO2 and support 1 million smallholder farmers, helping them to regenerate their land, grow more food and improve their livelihoods.\\n\\nThe Problem Over the last five years, African nations have been, and will continue to be, some of the hardest hit by climate change. African smallholders are already experiencing 1.5x the global mean temperature rise, severe droughts, and soil degradation, which are causing widespread crop failure. Whilst it is positive that the world is turning its attention towards fighting climate change, the impacts felt today in Africa are not receiving the attention they need and deserve.\\n\\nThose who have contributed least to climate change are now fighting for survival. Bio-Logical was founded on the principle that the global drive towards net-zero can not only save our planet in the long term, we can address the severe impacts that are already being felt on the ground by those least equipped to deal with them. These communities, who have had no impact on the climate crisis, are not benefiting from most carbon removals currently in operation.\\n\\nThe Solution At Bio-Logical, we aim to address this by developing long term carbon removal projects that sequester carbon and support smallholder farmers to overcome some of their most significant challenges: degraded soil, droughts, expensive fertiliser and climate vulnerability.\\n\\nTo do this we employ a circular economy model, transforming agricultural waste into biochar, a super material that sequesters carbon, regenerates degraded soil and improves the climate resilience of crops. This will be used to create ‘Bio-Grow’ a soil-regenerating fertiliser that will be exchanged with farmers for their waste. Bio-Grow will fulfil all the nutrient needs of their crop, boosting yields by between 50% and 150% whilst removing their fertiliser costs and helping them grow organically, increasing the value of their product.\\n\\nOur initial project will be based in Thika, Kenya where we will work with 100,000 small holder farmers through four large agribusiness partners. This project will Sequester 25,000 tonnes of CO2 each year whilst simultaneously supporting smallholder farmers within the region.\\n\\nUsing this project as a blueprint we intend to rapidly scale up operations throughout Sub- Saharan Africa to hit our goal of supporting 1 million smallholder farmers by 2030.\\n\\nTHE OPPORTUNITY THE OPPORTUNITY company in Sub Saharan Africa by 2026.\\n\\nBio-Logical are positioned to become the largest nature-based carbon removals\\n\\nAccording to the IPCC, for us to prevent a climate catastrophe we will need roughly 10Bn tonnes of CO2 to be removed from the atmosphere annually by 2030, compared with the 0.0018Bn tonnes of carbon dioxide removed by CDR technology globally in 2021. We aim to be the largest carbon removals project developer in Africa, fighting climate change and improving of communities throughout the continent.\\n\\nTHE MARKET NEEDS TO SCALE 5000X\\n\\nthe\\n\\nlivelihoods\\n\\nOur products fit into 3 high growth markets with low corelation, providing a safety net against volatility in any individual market.\\n\\nCarbon Markets\\n\\nFertiliser & Compost\\n\\nBiochar & Activated Carbon\\n\\n$193BN\\n\\n$4.7BN\\n\\n$851BN 31% CAGR\\n\\n2.6% CAGR\\n\\n5.6% CAGR\\n\\n$170M\\n\\n$2BN 43% CAGR\\n\\n$20BN 6.9% CAGR\\n\\n13.2% CAGR\\n\\nVoluntary\\n\\nAfrica\\n\\nBiochar\\n\\nActivated Carbon\\n\\nCompliance\\n\\nGlobal\\n\\nSEIZING THE OPPORTUNITY SEIZING THE OPPORTUNITY\\n\\nAs a first mover in the East Africa, we are well placed to develop the reputation that is so crucial in scaling up a project development business. Our Co-founder Rory has extensive experience leading on the development of big-ticket carbon projects throughout Sub- Saharan Africa for one of the region’s largest developers. These projects have attracted investment upwards of $40M and are set to offset 50M Tonnes of CO2 over their life span.\\n\\nOur business model is unique for biochar projects globally, setting our credits apart from others issued by Puro as we have focussed on a circular economy to generate the maximum impact. As a result we were invited by Puro to present at NASDAQ headquarters to many of the world’s leading carbon trading desks to highlight the impact biochar can have.\\n\\nOur Kenyan project will be one of the largest biochar project in the world and will position us to utilise the vast amounts of agricultural waste in Kenya and across east Africa to support 1 million smallholders by 2030. Through our partnerships with the UN, KEFRI and the partnership we’re developing with the WRI, we are discussing supporting large scale land regeneration projects led by national governments. There is a huge appetite for our product in Africa, the question we’re constantly asked is ‘can you scale sooner?’.\\n\\nOUR MODEL OUR MODEL\\n\\nAgricultural Waste\\n\\nBio-Grow Fertiliser\\n\\nCarbon Removal Credits\\n\\nIntegrated Logistics\\n\\nCarbonisation\\n\\nBiochar Sales\\n\\nOur circular economy model produces three core products from agricultural waste: Biochar, Carbon Removal Credits and Bio-Grow Fertiliser.\\n\\nWe source waste from large agribusiness which would otherwise be burnt or left to rot in the fields. These partnerships simultaneously remove the typical challenges of working with thousands of smallholder farmers, whilst benefiting from relationships they have formed over decades. A few key aspects of this partnership are as follows: • Waste is exchanged for our Bio-Grow fertiliser, mitigating cash flow\\n\\nAgricultural Waste\\n\\nchallenges, and ensuring our product reaches smallholders.\\n\\nOur partners are contracted to work exclusively with Bio-Logical • Partners have an option to sell a portion of their waste if they have sufficient fertiliser. In this instance we purchase the waste and sell the biochar to our offtake partner.\\n\\nEnvironmental impact is critical to Bio-Logical, we minimise transport emissions in the following ways: • Waste will be collected by our own low emission trucks. • We will integrate our logistics with our partners, utilising the empty leg of their collection journeys to deliver Bio-Grow to their networks of smallholders.\\n\\nLogistics\\n\\nCarbonisation is the process of transforming waste into biochar, locking up carbon for centuries and creating the key component to our high impact fertiliser. This process will take place at our central facility in our super low emission pyrolysis plant. Bio-Logical’s machinery manufacturer has a proven track record delivering facilities globally. Each machine has a life span of roughly 6 years. We’ve designed our facility to accommodate scaling up to 50,000 CORCs annually whilst also allowing uninterrupted transition to new machinery without stopping production.\\n\\nCarbonisation\\n\\nLOCATION LOCATION\\n\\nOur Facility is based in Thika on site at our lead partner, Kenya Nut Co’s Eco-Industrial Park.\\n\\nAGRIBUSINESSES AGRIBUSINESSES\\n\\nREVENUE STREAMS REVENUE STREAMS\\n\\nBiochar Carbon Offset Credits issued by our partner Puro.Earth are some of the most high value and sought after credits on the market. Biochar credits are widely considered to be the most valuable and impactful available today due to the permanence scalability and co-benefits of biochar carbon removal. Through offtake agreements, facilitated by Puro, we will sell credits to companies and nations around the world looking to offset emissions and reach net-zero.\\n\\nCARBON CEDITS\\n\\nWe have secured an LOI from RegenOrganics for the purchase of biochar which they intend to add to their organic black soldier fly fertiliser. We are in preliminary discussions around the use of biochar in synthetic fertiliser with MEA, one of Kenya’s foremost fertiliser producers. Biochar is used in construction to reduce both the weight and carbon footprint of concrete, one of the most CO2 polluting industries in the world. We are in discussions around trialling biochar concrete with Kenyan construction firms.\\n\\nBIOCHAR\\n\\nOur fertiliser is exchanged at a 1:1 ratio for nut waste with our partners. Any surplus waste will be purchased for a fixed price and the fertiliser produced from this will be sold to wholesalers. We are negotiating a 10 year offtake and profit share agreement for all of the additional fertiliser with our lead partner who has strong market linkages built through a 50 year company history. As the brand gains recognition this additional revenue stream will become a more prominent part of our balance sheet.\\n\\nFERTILISER\\n\\nOur core focus is on the carbon market and biochar credits are seeing an ever-increasing demand and steadily increasing credit prices. However, if prices were to drop below $80 a Tonne, Bio- Logical is contractually permitted to renegotiate the terms of our agreement with our partners. In this instance, we would shift away from a circular economy and instead would purchase waste. We would then focus on biochar, activated carbon or fertiliser sales in more developed markets. All three markets offer a viable, more lucrative, alternative to carbon credits. In this unlikely scenario we would always ensure smallholders receive a good income for their waste. These alternative revenue streams are one of our models’ key strengths, mitigating the risks associated with potential changes in the carbon market.\\n\\nPIVOT POTENTIAL\\n\\nTRACTION TRACTION\\n\\nWith the support of FCDO we have gained significant traction in Kenya and have developed a business model which will allow us to rapidly scale up operations following on from successful funding. Our current traction is as follows:\\n\\nCarbon Certification Partnership secured with Puro.Earth, the leading crediting platform for carbon removals.\\n\\nMachinery Supplier Supplier confirmed, quote received for our specifications.\\n\\nSite Location We are finalizing a 20 year lease on 5 acres of our lead partners site.\\n\\nFeedstock Supply Developing partnerships with agribusinesses who represent over 200,000 smallholder farmers.\\n\\nResearch and Development Partnership with the United Nations, KEFRI and in discussions with the WRI.\\n\\nBiochar Offtake Agreement LOI secured from a leading sustainable fertilizer company for all surplus biochar\\n\\nConstruction Partner Prefab steel framed factory manufacturer secured. RFP has been sent to prospective domestic construction partners.\\n\\nEnergy production We are exploring the possibility of supplying power to the grid. Currently we are being support by FCDO to make this happen.\\n\\nTHE MARKET THE MARKET\\n\\nBelow are listed some comparable companies, both operate in the African market however they differ in scale and focus area. We will combine the strengths of both of these companies at a significantly larger scale.\\n\\nAFRICAN BIOCHAR CARBON CREDITS\\n\\nKENYAN BIOCHAR FERTILISER\\n\\nNet Zero are one of the leading biochar companies globally. They recently set a record for the largest ever Series A for a climate tech, raising $11.7M. The investors were Stellantis, L’Oreal and CMA CGM. They operate a high tech (but highly unreliable) facility in Cameroon using coffee husks as feedstock (lower quality than macadamia shells), as well as 2 sites currently in development in Brazil. Their revenue is purely from carbon credits. Their lead carbon offtakers are BCG and Rothschild & Co.\\n\\nSafi Organics are a small scale, low tech in biochar Kenya. They reach 10,000 smallholders with their rice husk biochar fertiliser (also a then macadamia). They do not sell carbon credits and is purely through fertiliser sales. Their fertiliser sells for $411 per Tonne. They use extremely low tech kilns made from oil drums to produce their biochar.\\n\\nfertiliser company based\\n\\nlower\\n\\nquality\\n\\nfeedstock\\n\\ntheir revenue\\n\\nAwards\\n\\nAwards\\n\\nOFFTAKERS OFFTAKERS\\n\\nWe are in discussions with the following carbon offtakers. The majority of these are trading desks and brokers who help companies to reach net zero. We are offering long term offtake agreements to each company on a pay on delivery model at a price of $170 per credit.\\n\\nOPERATIONAL PLAN OPERATIONAL PLAN\\n\\nIn the initial phase we will rent a warehouse nearby to our site in Thika to begin operations and ensure we can undergo a commissioning period with our machinery and receive our CORC audit as quickly as possible. During this period, we will build our solar powered carbon neutral facility located in Kenya Nut Company’s Eco Industrial Park. Once complete we will move our operational machinery and install additional machines in this facility. This will be the largest biochar production facility in Africa. We will employ 30 people in 2024 scaling to over 250 people in 2025 when our production capacity reaches 300,000 Tonnes of CO2 sequestered annually across multiple sites.\\n\\nTIMELINE TIMELINE\\n\\nBio-Logical will contract their machinery supplier to train our staff, support and supervise the operation and maintenance of the machinery throughout the commissioning period until the functional test, in this case the carbon credit audit from Puro.Earth, is complete which will take between 60 and 90 days. During this period our team will work closely with the manufacturer to create a detailed production and MRP plan that will optimise our output for the specific feedstock and conditions in Thika.\\n\\nTEAM STRUCTURE TEAM STRUCTURE\\n\\nWe are building a team of 30 purpose driven passionate people. We’ll start by hiring our General Manager and Head of Carbon who we’ll work with to build the factory, logistics and growth teams. We are currently in negotiations with Deloitte, EY and KPMG to outsource our accounting and HR needs to ensure we’re compliant with all Kenyan corporate regulations as well as the UK-Kenyan tax treaty.\\n\\nLeadership\\n\\nGrowth\\n\\nOperations\\n\\nAdministration\\n\\nR&D\\n\\nFactory\\n\\nLogistics\\n\\nHR\\n\\nSales\\n\\nFinance\\n\\nCarbon\\n\\nTHE FACILITY THE FACILITY\\n\\nPROGRESS PROGRESS\\n\\nBoth founders have invested seed capital to ensure the project development can go ahead without delay. This has allowed us to push ahead with operations on the ground, securing partnerships and beginning contract negotiations to ensure that the project is in the strongest position possible to receive investment. We have built a strong network through engaging with our partners and their networks of smallholders, national and local government as well as trade associations and Global and African development banks and NGO’s such as the World Resource Institute.\\n\\nWe have secured the supply and offtake of all physical elements of the project and we are in discussions around long term carbon credit offtake agreements. The Kenya project is positioned to initiate immediately following successful funding. We are looking for a partner that shares our vision for carbon removals as a tool for social impact, and wants to join us as we become the largest carbon removals project developer in Africa.\\n\\nIMPACT\\n\\nOutcomes from our first Kenyan facility\\n\\n100,000 smallholder livelihoods & yields improved\\n\\n25,000 Tonnes of CO\\n\\n2 sequestered annually\\n\\nCombat gender inequality through vocational training and supporting businesses that hire 75% + Women\\n\\n30,000 Tonnes of waste turned into growth\\n\\nContribution to 14 of the United Nations SDGs\\n\\n100,000 Kenyan farms made more climate resilient\\n\\nRenewable energy produced could power 10,000 Kenyan homes annually\\n\\nLOCAL CONTEXT LOCAL CONTEXT\\n\\n33 million Africans rely on smallholdings, a livelihood that is directly under threat due to climate change. Although whole families rely on farming for survival, women make up a disproportionate number of farmers at a staggering 75%. Despite the large number of women in agriculture, they face a host of gender-specific obstacles—such as lack of land ownership rights, financing, markets, agricultural training, and education, putting them at a severe disadvantage.\\n\\nOur Kenyan project works with large agribusinesses who, between them, aggregate macadamia nuts from over 200,000 smallholder farmers, producing 30,000 Tonnes of waste annually. These agribusinesses also provide vital opportunities for Kenyan women to move up the value chain, increasing their income and gaining vocational skills, which is fundamental to increasing equality in the region.\\n\\nThe waste we will use is currently being burned in dryers and boilers, emitting CO2 and failing to offer a consistent revenue stream for our partners. Our partnerships not will only eliminate the environmental impact of current waste management practices, it will increase smallholder incomes and improve the quantity, quality, and resilience of their harvests.\\n\\nAgriculture focussed solutions attract the most investment in the region with prominent investors such as Agdevco and Proparco investing heavily in our partners and more widely. Favourable tax incentives for carbon removals also make the country an ideal location for our project.\\n\\nSMALLHOLDER PROFILE\\n\\nMalaika is a macadamia farmer located in the Mount Kenya region. Alongside her Macadamia trees, which are her family's primary cash crop, Malaika also farms fruit and vegetables which provide vital food to her family, the remainder she sells in the local market. On her, 2-acre plot, Malaika has five Macadamia trees which produce roughly 300kg of Macadamia per season. With a going rate of 80Ksh per kg, Malaika can expect to receive roughly $185 a year for her harvest. This income is her leading source of revenue and is key in supporting her family of 7. The past 5 rainy seasons have failed and Malaika’s harvests as shrinking every year as her soil becomes increasingly degraded. Our Bio-Grow biochar fertiliser will have the following impact for Malaika:\\n\\n• •\\n\\nDouble the yield of her harvest Organic certification adds an additional 10% to her crops value Regenerates soil, increasing her climate change\\n\\nTypical Farm Size: 2 Acres\\n\\nFertiliser Spend: Before: $19 With Bio-Grow: $7.5\\n\\nMacadamia Income: Before: $185 With Bio-Grow: $407\\n\\nSCALING SCALING\\n\\nBio-Logical are a first mover in industrial scale biochar production in East Africa. We aim to be the biggest biochar producer in Africa by 2025.\\n\\nPuro, the world's leading certification standard for biochar projects, is our partner. Credit price: €120 - €500 (average €130) Credits (CORCS) issued in 2022: 225,000 Total value: €33,750,000 (+250% on 2021)\\n\\nBiochar production by region\\n\\nAsia Pacific\\n\\nLatin America\\n\\nMiddle East & Africa\\n\\nNorth America\\n\\nEurope\\n\\nKenya Year 1\\n\\nLaunch in Kenya with a capacity 25,000 Tonnes of CO2 pa and supporting 100,000 smallholders. This will form the blueprint for project development across East Africa.\\n\\nEast Africa Year 3 Bio-Logical become Africa’s leading biochar producer launching a portfolio of biochar projects across East Africa with a sequestration capacity of 300,000 Tonnes of CO2 pa and supporting 500,000 smallholders. We will begin fundraising for these projects in 2024 to begin operation in late 2025.\\n\\nAfrica Year 5\\n\\nBio-Logical bring our circular economy model to 1,000,000 smallholders across Africa with a sequestration capacity of 600K Tonnes of CO\\n\\npa. We\\n\\n2\\n\\nwill support AFR100 and bring online Article 6 funded projects in Africa.\\n\\nKenya will act as our HQ with expansion in East Africa followed by further projects in South Africa. Bio-Logical will become the leading biochar producer in Africa by 2025. We are already in discussions with suppliers of all necessary feedstock for our 2025 expansion.\\n\\n2023 Kenya\\n\\nMacadamia\\n\\n2025 East Africa Macadamia, Avocado & Coffee\\n\\n2027 Africa Macadamia, Avocado, Coffee, Sugarcane & Mill Waste\\n\\nFINANCIAL OUTLOOK FINANCIAL OUTLOOK\\n\\nBelow the financials are broken down for each phase of the development of the company. Phase 1A will be the initial 6 months of operations producing c. 2,600 CORCs over the 6 months. Phase 1B will be funded and initiated simultaneously with a new facility with a capacity of 25,000 CORCs annually being built ready for operation by next macadamia harvest in March 2024. Phase 2 will see Bio-Logical scale in Kenya and across East Africa. The target capacity for this expansion is 300,000 COC’s annually by t2025. This will be funded through a combination of grants, pre-purchase agreements, development bank financing and equity investment. The aim for this expansion is to minimize the dilution as much as is feasible. We are already in discussions with development banks about financing this expansion.\\n\\nPHASE 1A PHASE 1A\\n\\nBelow the financials are broken down for each phase of the development of the company. Phase 1A will be the initial 6 months of operations producing c. 2,600 CORCs.\\n\\nFunds received 2 months\\n\\n25%\\n\\n$134k CapEx\\n\\nMachinery Arrives 1 month\\n\\n$531k\\n\\n$397k OpEx\\n\\n75%\\n\\nFacility Operational\\n\\nPhase 1A is structured to maximise the pace of carbon credit issuance whilst upskilling our key staff and giving a longer window to hire a larger team. This phase will employ 13 staff who’ll then help build the team of 30 that will be assembled in Phase 1B. This phase will see operations initiating at pace whilst ensuring production is unaffected by the construction timeline of our main facility. During this phase we will also provide our partners with samples of the fertiliser to begin distributing and collecting feedback and case studies from smallholders its impact on crop performance ahead of our full scale roll out in early 2024.\\n\\nThis phase can be funded individually or as part of the Phase 1 total raise. Funding this phase will catalyse other funding streams. Once operational Bio-Logical will be able to sell $0.75M in carbon credit futures as well as access $1M in debt finance to fund the majority of Phase 1B Capex.\\n\\nPHASE 1B PHASE 1B\\n\\nPhase 1B will see Bio-Logical reaching our initial milestone of 25,000 CORC’s annually. Bio- Logical will work with the majority of Kenya’s macadamia processors in this phase, representing 8% of the global macadamia industry.\\n\\nFunds received 2 months\\n\\n33%\\n\\n$1.2M CapEx\\n\\nMachinery Arrives 6 months\\n\\n$3.5M\\n\\n$2.3M OpEx\\n\\n67%\\n\\nFacility Operational\\n\\nPhase 1B will see Bio-Logical’s purpose-built biochar production facility being constructed on site at Kenya Nut Co’s Eco industrial Park in Thika. This facility will be based on 5 acres which allows for scaling to just under 50,000 CORCs annually when the feedstock is secured (Bio-Logical already have acquisition plans for this feedstock). This phase will act as a springboard from which Bio-Logical will scale across the region.\\n\\nBio-Logical have identified $1.75M of funding for this phase that would limit dilution. However we are open to discussions if you wish to fund the full ticket.\\n\\nPHASE 2 PHASE 2\\n\\nIn Phase 2 Bio-Logical will build multiple facilities across Kenya and Uganda with a combined capacity of 300,000 CORC’s annually. We are in discussions around the feedstocks for this expansion already and we will be working closely with the UN, KEFRI and the WRI to support their national land regeneration programmes.\\n\\nThank you for reviewing this document, please let us know if you have any questions:\\n\\nPhilip Hunter Philip@Bio-Logical.Green or Rory Buckworth Rory@Bio-Logical.Green\""
            ],
            "application/vnd.google.colaboratory.intrinsic+json": {
              "type": "string"
            }
          },
          "metadata": {},
          "execution_count": 88
        }
      ]
    },
    {
      "cell_type": "code",
      "source": [
        "docs[0].page_content[:]"
      ],
      "metadata": {
        "id": "qHDrgPcEUOXH"
      },
      "execution_count": null,
      "outputs": []
    },
    {
      "cell_type": "code",
      "source": [
        "content=docs[0].page_content[:]\n",
        "try:\n",
        "# Code to make API request goes here\n",
        "  response = openai.ChatCompletion.create(\n",
        "  #model=\"gpt-3.5-turbo\",\n",
        "  model='gpt-3.5-turbo-16k',\n",
        "  messages=[\n",
        "   {\"role\": \"system\", \"content\": \"You are a helpful assistant.\"},\n",
        "   {\"role\": \"user\", \"content\": f\"{content}\\n\\n{query}\"},\n",
        "  ]\n",
        "  )\n",
        "  print(response['choices'][0]['message']['content'])\n",
        "except Exception as e:  # Catch all exceptions\n",
        "  error_message = str(e)\n",
        "  if \"maximum context length\" in error_message:\n",
        "    print(\"The request is too long for the model:\", e)\n",
        "\n",
        "  else:\n",
        "    print(\"An error ocurred with openAI:\", e)\n"
      ],
      "metadata": {
        "colab": {
          "base_uri": "https://localhost:8080/"
        },
        "id": "nK4TL1HGRhbQ",
        "outputId": "05b58f1a-1d25-4786-a6ee-97fe06eec96d"
      },
      "execution_count": 92,
      "outputs": [
        {
          "output_type": "stream",
          "name": "stdout",
          "text": [
            "User type: Bio-Logical serves both smallholder farmers in climate-vulnerable communities in Africa and companies and nations looking to offset emissions through nature-based carbon removals.\n",
            "\n",
            "Technology: Bio-Logical uses a circular economy model to transform agricultural waste into biochar, a super material that sequesters carbon, regenerates degraded soil, and improves crop resilience.\n",
            "\n",
            "Founder names: The founders of Bio-Logical are Philip Hunter and Rory Buckworth.\n",
            "\n",
            "Founder gender: The gender of the founders is not specified in the provided information.\n"
          ]
        }
      ]
    }
  ]
}